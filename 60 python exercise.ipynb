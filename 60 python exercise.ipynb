{
 "cells": [
  {
   "cell_type": "markdown",
   "id": "759d04ba",
   "metadata": {},
   "source": [
    "**1-Write a Python program to calculate the length of a string using 2 ways"
   ]
  },
  {
   "cell_type": "code",
   "execution_count": 3,
   "id": "e434c950",
   "metadata": {
    "ExecuteTime": {
     "end_time": "2023-12-05T16:51:14.087825Z",
     "start_time": "2023-12-05T16:51:14.082801Z"
    }
   },
   "outputs": [
    {
     "data": {
      "text/plain": [
       "5"
      ]
     },
     "execution_count": 3,
     "metadata": {},
     "output_type": "execute_result"
    }
   ],
   "source": [
    "s = \"Mazen\"\n",
    "len(s)"
   ]
  },
  {
   "cell_type": "code",
   "execution_count": 12,
   "id": "7a2dfa32",
   "metadata": {
    "ExecuteTime": {
     "end_time": "2023-12-05T16:53:08.856173Z",
     "start_time": "2023-12-05T16:53:08.851744Z"
    }
   },
   "outputs": [
    {
     "name": "stdout",
     "output_type": "stream",
     "text": [
      "5\n"
     ]
    }
   ],
   "source": [
    "s = \"Mazen\"\n",
    "count = 0\n",
    "for char in s:\n",
    "    count += 1\n",
    "print (count)"
   ]
  },
  {
   "cell_type": "markdown",
   "id": "d7cc9da7",
   "metadata": {},
   "source": [
    "**2-Write a Python program to get a string made of the first 2 and last 2 characters of a given string. If the string length is less than 2, return the empty string instead (\"##Sample String : 'w3resource'\n",
    "Expected Result : 'w3ce'\n",
    "##Sample String : 'w3'\n",
    "Expected Result : 'w3w3'\n",
    "##Sample String : ' w'\n",
    "Expected Result : Empty String)"
   ]
  },
  {
   "cell_type": "code",
   "execution_count": 2,
   "id": "dafa9dd8",
   "metadata": {
    "ExecuteTime": {
     "end_time": "2023-12-05T22:26:53.454104Z",
     "start_time": "2023-12-05T22:26:53.448181Z"
    }
   },
   "outputs": [
    {
     "name": "stdout",
     "output_type": "stream",
     "text": [
      "w3ce\n"
     ]
    }
   ],
   "source": [
    "s = \"w3resource\"\n",
    "if len(s) >= 2:\n",
    "    print(s[:2]+s[-2:])\n",
    "else:\n",
    "    print(\"\")"
   ]
  },
  {
   "cell_type": "markdown",
   "id": "1534f956",
   "metadata": {},
   "source": [
    "**3-Write a Python program to add 'ing' at the end of a given string (length should be at least 3). If the given string already ends with 'ing', add 'ly' instead. If the string length of the given string is less than 3, leave it unchanged. (Sample String : 'abc'\n",
    "Expected Result : 'abcing')"
   ]
  },
  {
   "cell_type": "code",
   "execution_count": 3,
   "id": "7ff8cec4",
   "metadata": {
    "ExecuteTime": {
     "end_time": "2023-12-05T22:34:47.236528Z",
     "start_time": "2023-12-05T22:34:47.228618Z"
    }
   },
   "outputs": [
    {
     "name": "stdout",
     "output_type": "stream",
     "text": [
      "abcingly\n"
     ]
    }
   ],
   "source": [
    "s = \"abcing\"\n",
    "if len(s) >= 3:\n",
    "    if s[-3:] == \"ing\":\n",
    "        s += \"ly\"\n",
    "    else:\n",
    "        s += \"ing\"\n",
    "print(s)"
   ]
  },
  {
   "cell_type": "markdown",
   "id": "1c0a6627",
   "metadata": {},
   "source": [
    "**4-Write a Python function that takes a list of words and return the longest word and the length of the longest one\n",
    "(Longest word: Exercises\n",
    "Length of the longest word: 9)"
   ]
  },
  {
   "cell_type": "code",
   "execution_count": 4,
   "id": "397341d9",
   "metadata": {
    "ExecuteTime": {
     "end_time": "2023-12-05T22:48:09.780604Z",
     "start_time": "2023-12-05T22:48:09.772973Z"
    }
   },
   "outputs": [
    {
     "name": "stdout",
     "output_type": "stream",
     "text": [
      "Longest word: Exercises\n",
      "Length of the longest word: 9\n"
     ]
    }
   ],
   "source": [
    "s = [\"Python\", \"Exercises\", \"Longest\", \"word\"]\n",
    "\n",
    "length_of_longest = 0\n",
    "longest_word = \"\"\n",
    "\n",
    "for word in s:\n",
    "    if len(word) > length_of_longest:\n",
    "        longest_word = word\n",
    "        length_of_longest = len(word)\n",
    "\n",
    "print(\"Longest word:\", longest_word)\n",
    "print(\"Length of the longest word:\", length_of_longest)\n"
   ]
  },
  {
   "cell_type": "markdown",
   "id": "53a03a6a",
   "metadata": {},
   "source": [
    "**5-Write a Python program to change a given string to a newly string where the first and last chars have been exchanged using 2 ways (Sample String:abca  Expected Result:ebce)"
   ]
  },
  {
   "cell_type": "code",
   "execution_count": 10,
   "id": "fd327d2a",
   "metadata": {
    "ExecuteTime": {
     "end_time": "2023-12-09T15:32:48.564354Z",
     "start_time": "2023-12-09T15:32:48.561673Z"
    }
   },
   "outputs": [
    {
     "name": "stdout",
     "output_type": "stream",
     "text": [
      "dorlw\n"
     ]
    }
   ],
   "source": [
    "s = \"world\"\n",
    "print (s[-1] + s[1:-1] + s[0])"
   ]
  },
  {
   "cell_type": "code",
   "execution_count": 9,
   "id": "285788b4",
   "metadata": {
    "ExecuteTime": {
     "end_time": "2023-12-09T15:32:41.178180Z",
     "start_time": "2023-12-09T15:32:41.172352Z"
    }
   },
   "outputs": [
    {
     "name": "stdout",
     "output_type": "stream",
     "text": [
      "dorlw\n"
     ]
    }
   ],
   "source": [
    "def exchange(input_str):\n",
    "    if len(input_str) < 2:\n",
    "        return input_str\n",
    "    char_list = list(input_str)\n",
    "    char_list[0], char_list[-1] = char_list[-1], char_list[0]\n",
    "    new_str = ''\n",
    "    for char in char_list:\n",
    "        new_str += char\n",
    "    return new_str\n",
    "input_str = \"world\"\n",
    "result = exchange(input_str)\n",
    "print(result)"
   ]
  },
  {
   "cell_type": "markdown",
   "id": "25f89808",
   "metadata": {},
   "source": [
    "**6-Write a Python program to remove characters that have odd index values in a given string (Sample String:abca Expected Result:ac)"
   ]
  },
  {
   "cell_type": "code",
   "execution_count": 1,
   "id": "05959bd7",
   "metadata": {
    "ExecuteTime": {
     "end_time": "2023-12-09T17:16:07.020298Z",
     "start_time": "2023-12-09T17:16:07.005451Z"
    }
   },
   "outputs": [
    {
     "name": "stdout",
     "output_type": "stream",
     "text": [
      "Wrd\n"
     ]
    }
   ],
   "source": [
    "def clear_odd(s):\n",
    "    result = \"\"\n",
    "    for i in range(len(s)+1):\n",
    "        if i % 2 == 0:\n",
    "            result += s[i]\n",
    "    return result\n",
    "S = \"World\"\n",
    "result = clear_odd(S)\n",
    "print(result)"
   ]
  },
  {
   "cell_type": "markdown",
   "id": "eb16e898",
   "metadata": {},
   "source": [
    "**7-Write a Python program to count the occurrences of each word in a given sentence (Sample String:amr and ahmed are frindes but amr is the tallest Expected Result:2)"
   ]
  },
  {
   "cell_type": "code",
   "execution_count": 24,
   "id": "01ce6cf5",
   "metadata": {
    "ExecuteTime": {
     "end_time": "2023-12-11T16:14:19.847242Z",
     "start_time": "2023-12-11T16:14:19.844169Z"
    }
   },
   "outputs": [
    {
     "name": "stdout",
     "output_type": "stream",
     "text": [
      "age 1\n",
      "is 3\n",
      "Ahmed, 1\n",
      "24, 1\n",
      "3284907398247 1\n",
      "salary 1\n",
      "my 3\n",
      "name 1\n"
     ]
    }
   ],
   "source": [
    "sentence = \"my name is Ahmed, my age is 24, my salary is 3284907398247\"\n",
    "words = sentence.split()\n",
    "words = set(words)\n",
    "for word in words:\n",
    "    print(word , sentence.count(word))"
   ]
  },
  {
   "cell_type": "markdown",
   "id": "4e8125f1",
   "metadata": {},
   "source": [
    "**8-Write a Python script that takes input from the user and displays that input back in upper and lower cases"
   ]
  },
  {
   "cell_type": "code",
   "execution_count": 2,
   "id": "66c8f778",
   "metadata": {
    "ExecuteTime": {
     "end_time": "2023-12-11T16:34:22.847880Z",
     "start_time": "2023-12-11T16:34:18.670604Z"
    }
   },
   "outputs": [
    {
     "name": "stdout",
     "output_type": "stream",
     "text": [
      "Enter a sentence: Huh\n",
      "HUH\n",
      "huh\n"
     ]
    }
   ],
   "source": [
    "x = input(\"Enter a sentence: \")\n",
    "print(f\"{x.upper()}\\n{x.lower()}\")"
   ]
  },
  {
   "cell_type": "markdown",
   "id": "fcd68aa1",
   "metadata": {},
   "source": [
    "**9-Write a Python function to reverse a string if its length is a multiple of 4"
   ]
  },
  {
   "cell_type": "code",
   "execution_count": 10,
   "id": "0671a931",
   "metadata": {
    "ExecuteTime": {
     "end_time": "2023-12-11T16:36:07.818591Z",
     "start_time": "2023-12-11T16:36:04.570630Z"
    }
   },
   "outputs": [
    {
     "name": "stdout",
     "output_type": "stream",
     "text": [
      "emad\n",
      "dame\n"
     ]
    }
   ],
   "source": [
    "string = input()\n",
    "if len(string) % 4 == 0 :\n",
    "    print(string[::-1])"
   ]
  },
  {
   "cell_type": "markdown",
   "id": "b577c68d",
   "metadata": {},
   "source": [
    "**10- Write a Python program to remove a newline in Python"
   ]
  },
  {
   "cell_type": "code",
   "execution_count": 15,
   "id": "e0c6525a",
   "metadata": {
    "ExecuteTime": {
     "end_time": "2023-12-11T16:41:04.737742Z",
     "start_time": "2023-12-11T16:41:04.732699Z"
    }
   },
   "outputs": [
    {
     "name": "stdout",
     "output_type": "stream",
     "text": [
      "my name is Mazen  my salary is 987987\n"
     ]
    }
   ],
   "source": [
    "string = \"my name is Mazen \\nmy salary is 987987\"\n",
    "string = string.replace('\\n' , '')\n",
    "print(string)"
   ]
  },
  {
   "cell_type": "markdown",
   "id": "80db5ae0",
   "metadata": {},
   "source": [
    "**11-Write a Python program to check whether a string starts with specified characters"
   ]
  },
  {
   "cell_type": "code",
   "execution_count": 18,
   "id": "0cc4e03e",
   "metadata": {
    "ExecuteTime": {
     "end_time": "2023-12-11T16:45:18.847935Z",
     "start_time": "2023-12-11T16:45:18.839650Z"
    }
   },
   "outputs": [
    {
     "name": "stdout",
     "output_type": "stream",
     "text": [
      "No\n"
     ]
    }
   ],
   "source": [
    "if \"Mazen\".startswith('A'):\n",
    "    print('Ys')\n",
    "else:\n",
    "    print('No')"
   ]
  },
  {
   "cell_type": "markdown",
   "id": "593a68db",
   "metadata": {},
   "source": [
    "**12- Write a Python program to add prefix text to all of the lines in a string"
   ]
  },
  {
   "cell_type": "code",
   "execution_count": 20,
   "id": "d2e46ada",
   "metadata": {
    "ExecuteTime": {
     "end_time": "2023-12-11T16:59:43.636887Z",
     "start_time": "2023-12-11T16:59:37.139715Z"
    }
   },
   "outputs": [
    {
     "name": "stdout",
     "output_type": "stream",
     "text": [
      "Enter the prefix here -->Mr.\n",
      "['Mr. Mazen', 'Mr. Emad', 'Mr. Ahmed']\n"
     ]
    }
   ],
   "source": [
    "def addprefix(pre, string):\n",
    "    newlist = string.split('\\n')\n",
    "    for i in range(len(newlist)):\n",
    "        newlist[i] = pre + ' ' + newlist[i]\n",
    "    print(newlist)\n",
    "    \n",
    "    \n",
    "S = \"Mazen\\nEmad\\nAhmed\"\n",
    "Prefix = input(f'Enter the prefix here -->')\n",
    "addprefix(Prefix, S)"
   ]
  },
  {
   "cell_type": "markdown",
   "id": "86fa1543",
   "metadata": {},
   "source": [
    "**13-Write a Python program to print the following numbers up to 2 decimal places"
   ]
  },
  {
   "cell_type": "code",
   "execution_count": 22,
   "id": "cd4a9d89",
   "metadata": {
    "ExecuteTime": {
     "end_time": "2023-12-11T17:01:15.252558Z",
     "start_time": "2023-12-11T17:01:15.246674Z"
    }
   },
   "outputs": [
    {
     "name": "stdout",
     "output_type": "stream",
     "text": [
      "2.45\n"
     ]
    }
   ],
   "source": [
    "x = round(2.4534534534 , 2)\n",
    "print(x)"
   ]
  },
  {
   "cell_type": "markdown",
   "id": "452c0ab0",
   "metadata": {},
   "source": [
    "**14-Write a Python program to print the following numbers up to 2 decimal places with a sign"
   ]
  },
  {
   "cell_type": "code",
   "execution_count": 24,
   "id": "73e82479",
   "metadata": {
    "ExecuteTime": {
     "end_time": "2023-12-11T17:08:23.338432Z",
     "start_time": "2023-12-11T17:08:23.331238Z"
    }
   },
   "outputs": [
    {
     "name": "stdout",
     "output_type": "stream",
     "text": [
      "+2.55\n",
      "-4.36\n",
      "0\n"
     ]
    }
   ],
   "source": [
    "n = [2.545345, -4.3623, 0]\n",
    "for i in n:\n",
    "    if i > 0:\n",
    "        print('+' + str(round(i,2)))\n",
    "    elif i < 0:\n",
    "        print(round(i,2))\n",
    "    else:\n",
    "        print(i) "
   ]
  },
  {
   "cell_type": "markdown",
   "id": "32b1811a",
   "metadata": {},
   "source": [
    "**15-Write a Python program to display a number with a comma separator"
   ]
  },
  {
   "cell_type": "code",
   "execution_count": 25,
   "id": "f30fc0b6",
   "metadata": {
    "ExecuteTime": {
     "end_time": "2023-12-11T17:40:22.728316Z",
     "start_time": "2023-12-11T17:40:22.715487Z"
    }
   },
   "outputs": [
    {
     "name": "stdout",
     "output_type": "stream",
     "text": [
      "4,0,9,3,7,5,8,9,4,7,"
     ]
    }
   ],
   "source": [
    "n = 4093758947\n",
    "numbers = str(n)\n",
    "for i in numbers:\n",
    "    print(i + ',', end='')"
   ]
  },
  {
   "cell_type": "markdown",
   "id": "0477f487",
   "metadata": {},
   "source": [
    "**16-Write a Python program to reverse a string using 2 ways"
   ]
  },
  {
   "cell_type": "code",
   "execution_count": 26,
   "id": "aa8beec8",
   "metadata": {
    "ExecuteTime": {
     "end_time": "2023-12-11T17:43:06.127202Z",
     "start_time": "2023-12-11T17:43:06.117766Z"
    }
   },
   "outputs": [
    {
     "name": "stdout",
     "output_type": "stream",
     "text": [
      "nezaM\n"
     ]
    }
   ],
   "source": [
    "string = \"mazen\"\n",
    "print(string[::-1])"
   ]
  },
  {
   "cell_type": "code",
   "execution_count": 42,
   "id": "a19ab189",
   "metadata": {
    "ExecuteTime": {
     "end_time": "2023-12-11T18:07:04.469455Z",
     "start_time": "2023-12-11T18:07:04.460832Z"
    }
   },
   "outputs": [
    {
     "name": "stdout",
     "output_type": "stream",
     "text": [
      "nezaM"
     ]
    }
   ],
   "source": [
    "string = \"mazen\"\n",
    "for char in reversed(string):\n",
    "    print(char, end='')"
   ]
  },
  {
   "cell_type": "code",
   "execution_count": 45,
   "id": "8616e6c6",
   "metadata": {
    "ExecuteTime": {
     "end_time": "2023-12-11T18:12:13.220241Z",
     "start_time": "2023-12-11T18:12:13.210634Z"
    }
   },
   "outputs": [
    {
     "name": "stdout",
     "output_type": "stream",
     "text": [
      "nezaM"
     ]
    }
   ],
   "source": [
    "string = \"mazen\"\n",
    "for i in range(len(string)-1, -1, -1):\n",
    "    print(string[i], end='')"
   ]
  },
  {
   "cell_type": "markdown",
   "id": "5afc3166",
   "metadata": {},
   "source": [
    " **17-Write a Python program to count repeated characters in a string (hint:use dictionary)"
   ]
  },
  {
   "cell_type": "code",
   "execution_count": 50,
   "id": "515a469c",
   "metadata": {
    "ExecuteTime": {
     "end_time": "2023-12-11T18:19:20.532672Z",
     "start_time": "2023-12-11T18:19:20.523564Z"
    }
   },
   "outputs": [
    {
     "name": "stdout",
     "output_type": "stream",
     "text": [
      "{'I': 1, 'n': 3, 's': 3, 't': 4, 'a': 2, ' ': 2, 'o': 3, 'f': 1, 'w': 1, 'r': 1, 'e': 1, 'l': 1, 'u': 1, 'i': 1}\n"
     ]
    }
   ],
   "source": [
    "string = \"Instant software solution\"\n",
    "d = dict()\n",
    "for i in string:\n",
    "    d[i] = string.count(i)\n",
    "print(d)"
   ]
  },
  {
   "cell_type": "markdown",
   "id": "ae14e4e5",
   "metadata": {},
   "source": [
    "**18-Write a Python program to find the first non-repeating character in a given string"
   ]
  },
  {
   "cell_type": "code",
   "execution_count": 52,
   "id": "d73778e5",
   "metadata": {
    "ExecuteTime": {
     "end_time": "2023-12-11T18:23:24.701433Z",
     "start_time": "2023-12-11T18:23:24.692818Z"
    }
   },
   "outputs": [
    {
     "name": "stdout",
     "output_type": "stream",
     "text": [
      "f\n"
     ]
    }
   ],
   "source": [
    "string = \"instant software solution\"\n",
    "for i in string:\n",
    "    if string.count(i) == 1:\n",
    "        print(i)\n",
    "        break"
   ]
  },
  {
   "cell_type": "markdown",
   "id": "3adf5669",
   "metadata": {},
   "source": [
    "**19-Write a Python program to remove spaces from a given string"
   ]
  },
  {
   "cell_type": "code",
   "execution_count": 53,
   "id": "b4f22602",
   "metadata": {
    "ExecuteTime": {
     "end_time": "2023-12-11T18:24:03.713010Z",
     "start_time": "2023-12-11T18:24:03.704357Z"
    }
   },
   "outputs": [
    {
     "name": "stdout",
     "output_type": "stream",
     "text": [
      "Instantsoftwaresolution\n"
     ]
    }
   ],
   "source": [
    "string = \"Instant software solution\"\n",
    "print(string.replace(' ' , ''))"
   ]
  },
  {
   "cell_type": "markdown",
   "id": "734de60c",
   "metadata": {},
   "source": [
    "**20-Write a Python program to count the number of non-empty substrings of a given string"
   ]
  },
  {
   "cell_type": "code",
   "execution_count": 54,
   "id": "ef3f2274",
   "metadata": {
    "ExecuteTime": {
     "end_time": "2023-12-11T18:26:54.206969Z",
     "start_time": "2023-12-11T18:26:50.466760Z"
    }
   },
   "outputs": [
    {
     "name": "stdout",
     "output_type": "stream",
     "text": [
      "Ahmed\n",
      "15.0\n"
     ]
    }
   ],
   "source": [
    "string = input()\n",
    "print((len(string) * (len(string) + 1))/2)"
   ]
  },
  {
   "cell_type": "markdown",
   "id": "509998e2",
   "metadata": {},
   "source": [
    "**21-write a Python program to swap first and last element of any list."
   ]
  },
  {
   "cell_type": "code",
   "execution_count": null,
   "id": "68692d7f",
   "metadata": {},
   "outputs": [],
   "source": [
    "string = input(\"Enter a list: \")\n",
    "string_list = list(string)\n",
    "if len(string_list) >= 2:\n",
    "    string_list[0], string_list[-1] = string_list[-1], string_list[0]\n",
    "    print(string_list)\n",
    "else:\n",
    "    print(string_list)"
   ]
  },
  {
   "cell_type": "markdown",
   "id": "959e0837",
   "metadata": {},
   "source": [
    "**22-Given a list in Python and provided the positions of the elements, write a program to swap the two elements in the list. (Input : List = [23, 65, 19, 90], pos1 = 1, pos2 = 3\n",
    "Output : [19, 65, 23, 90])"
   ]
  },
  {
   "cell_type": "code",
   "execution_count": 55,
   "id": "225d8c6d",
   "metadata": {
    "ExecuteTime": {
     "end_time": "2023-12-11T18:53:07.684050Z",
     "start_time": "2023-12-11T18:53:03.638577Z"
    }
   },
   "outputs": [
    {
     "name": "stdout",
     "output_type": "stream",
     "text": [
      "Enter pos1:1 \n",
      "Enter pos2:3\n",
      "[19, 65, 23, 90]\n"
     ]
    }
   ],
   "source": [
    "def swapelements (Pos1, Pos2, List):\n",
    "    List[Pos1 - 1], List[Pos2-1] = List[Pos2-1], List[Pos1 - 1]\n",
    "    print(List)\n",
    "\n",
    "\n",
    "L = [23, 65, 19, 90]\n",
    "pos1 = int(input(\"Enter pos1:\"))\n",
    "pos2 = int(input(\"Enter pos2:\"))\n",
    "swapelements(pos1, pos2, L)"
   ]
  },
  {
   "cell_type": "markdown",
   "id": "66fc6682",
   "metadata": {},
   "source": [
    "**23- search for the all ways to know the length of the list"
   ]
  },
  {
   "cell_type": "code",
   "execution_count": 66,
   "id": "15a91740",
   "metadata": {
    "ExecuteTime": {
     "end_time": "2023-12-11T23:48:46.873955Z",
     "start_time": "2023-12-11T23:48:46.869608Z"
    }
   },
   "outputs": [
    {
     "name": "stdout",
     "output_type": "stream",
     "text": [
      "5\n"
     ]
    }
   ],
   "source": [
    "##using len() funct\n",
    "my_list = [1, 2, 3, 4, 5]\n",
    "length = len(my_list)\n",
    "print(length)"
   ]
  },
  {
   "cell_type": "code",
   "execution_count": 67,
   "id": "157871c0",
   "metadata": {
    "ExecuteTime": {
     "end_time": "2023-12-11T23:49:29.344419Z",
     "start_time": "2023-12-11T23:49:29.339061Z"
    }
   },
   "outputs": [
    {
     "name": "stdout",
     "output_type": "stream",
     "text": [
      "5\n"
     ]
    }
   ],
   "source": [
    "##using for loop\n",
    "my_list = [1, 2, 3, 4, 5]\n",
    "count = 0\n",
    "for i in my_list:\n",
    "    count += 1\n",
    "print(count)"
   ]
  },
  {
   "cell_type": "code",
   "execution_count": 69,
   "id": "95188bfb",
   "metadata": {
    "ExecuteTime": {
     "end_time": "2023-12-11T23:50:08.127777Z",
     "start_time": "2023-12-11T23:50:08.123025Z"
    }
   },
   "outputs": [
    {
     "name": "stdout",
     "output_type": "stream",
     "text": [
      "5\n"
     ]
    }
   ],
   "source": [
    "##using while loop\n",
    "my_list = [1, 2, 3, 4, 5]\n",
    "count = 0\n",
    "while my_list:\n",
    "    count += 1\n",
    "    my_list = my_list[1:]\n",
    "print(count)"
   ]
  },
  {
   "cell_type": "markdown",
   "id": "48c4f98c",
   "metadata": {
    "ExecuteTime": {
     "end_time": "2023-12-11T23:55:24.953968Z",
     "start_time": "2023-12-11T23:55:24.948426Z"
    }
   },
   "source": [
    "**25- write a Python code to find the Minimum number of list of numbers."
   ]
  },
  {
   "cell_type": "code",
   "execution_count": 61,
   "id": "21f8cbd6",
   "metadata": {
    "ExecuteTime": {
     "end_time": "2023-12-11T23:46:04.956798Z",
     "start_time": "2023-12-11T23:46:04.952006Z"
    }
   },
   "outputs": [
    {
     "name": "stdout",
     "output_type": "stream",
     "text": [
      "1\n"
     ]
    }
   ],
   "source": [
    "List = [1, 4, 6, 23, 7]\n",
    "print(min(List))"
   ]
  },
  {
   "cell_type": "markdown",
   "id": "96822d96",
   "metadata": {},
   "source": [
    "**26-search for if an elem is existing in list"
   ]
  },
  {
   "cell_type": "code",
   "execution_count": 92,
   "id": "51ca5c9a",
   "metadata": {
    "ExecuteTime": {
     "end_time": "2023-12-12T00:09:47.375887Z",
     "start_time": "2023-12-12T00:09:46.183844Z"
    }
   },
   "outputs": [
    {
     "name": "stdout",
     "output_type": "stream",
     "text": [
      "Enter the search item: 4\n",
      "Found\n"
     ]
    }
   ],
   "source": [
    "def find_item(item, my_list):\n",
    "    if item in my_list:\n",
    "        print(\"Found\")\n",
    "    else:\n",
    "        print(\"Not found\")\n",
    "\n",
    "my_list = [1, 4, 6, 23, 7]\n",
    "search_item = int(input(\"Enter the search item: \"))\n",
    "find_item(search_item, my_list)"
   ]
  },
  {
   "cell_type": "markdown",
   "id": "d9557da7",
   "metadata": {},
   "source": [
    "**27- clear python list using different ways"
   ]
  },
  {
   "cell_type": "code",
   "execution_count": 94,
   "id": "b69858a3",
   "metadata": {
    "ExecuteTime": {
     "end_time": "2023-12-12T00:12:46.875872Z",
     "start_time": "2023-12-12T00:12:46.870923Z"
    }
   },
   "outputs": [
    {
     "name": "stdout",
     "output_type": "stream",
     "text": [
      "[]\n"
     ]
    }
   ],
   "source": [
    "my_list = [1, 4, 6, 23, 7]\n",
    "my_list.clear()\n",
    "print(my_list)"
   ]
  },
  {
   "cell_type": "code",
   "execution_count": 96,
   "id": "7831ea9a",
   "metadata": {
    "ExecuteTime": {
     "end_time": "2023-12-12T00:16:25.436537Z",
     "start_time": "2023-12-12T00:16:25.432025Z"
    }
   },
   "outputs": [
    {
     "name": "stdout",
     "output_type": "stream",
     "text": [
      "[]\n"
     ]
    }
   ],
   "source": [
    "my_list = [1, 4, 6, 23, 7]\n",
    "del my_list[:]\n",
    "print(my_list)"
   ]
  },
  {
   "cell_type": "markdown",
   "id": "52160e88",
   "metadata": {},
   "source": [
    "**28-remove duplicated elements from a list"
   ]
  },
  {
   "cell_type": "code",
   "execution_count": 99,
   "id": "5e362228",
   "metadata": {
    "ExecuteTime": {
     "end_time": "2023-12-12T00:18:27.582430Z",
     "start_time": "2023-12-12T00:18:27.577687Z"
    }
   },
   "outputs": [
    {
     "name": "stdout",
     "output_type": "stream",
     "text": [
      "{0, 3, 4, 6, 7, 23, 'ali'}\n"
     ]
    }
   ],
   "source": [
    "my_list = [4, 6, 3, 0, 4, 23, 7, 'ali', 'ali']\n",
    "list_to_set = set(my_list)\n",
    "print(list_to_set)"
   ]
  },
  {
   "cell_type": "markdown",
   "id": "282337f7",
   "metadata": {},
   "source": [
    "**29-Given list values and keys list, convert these values to key value pairs in form of list of dictionaries. (Input : test_list = [“Gfg”, 3, “is”, 8], key_list = [“name”, “id”]\n",
    "Output : [{‘name’: ‘Gfg’, ‘id’: 3}, {‘name’: ‘is’, ‘id’: 8}])"
   ]
  },
  {
   "cell_type": "code",
   "execution_count": 1,
   "id": "4d4e2d28",
   "metadata": {
    "ExecuteTime": {
     "end_time": "2023-12-12T19:32:57.297442Z",
     "start_time": "2023-12-12T19:32:57.282188Z"
    }
   },
   "outputs": [
    {
     "name": "stdout",
     "output_type": "stream",
     "text": [
      "[{'name': 'Gfg', 'id': 3}, {'name': 'is', 'id': 8}]\n"
     ]
    }
   ],
   "source": [
    "def convert(test_list, key_list):\n",
    "    result = []\n",
    "    list_length = len(test_list)\n",
    "    key_length = len(key_list)\n",
    "    for i in range(0, list_length, key_length):\n",
    "        temp_dict = {}\n",
    "        for j in range(key_length):\n",
    "            temp_dict[key_list[j]] = test_list[i + j]\n",
    "        result.append(temp_dict)\n",
    "    return result\n",
    "\n",
    "\n",
    "Test_list = [\"Gfg\", 3, \"is\", 8]\n",
    "Key_list = [\"name\", \"id\"]\n",
    "output = convert(Test_list, Key_list)\n",
    "print(output)"
   ]
  },
  {
   "cell_type": "markdown",
   "id": "c26b6e9f",
   "metadata": {},
   "source": [
    "**30-write a python program to count unique values inside a list using different ways"
   ]
  },
  {
   "cell_type": "code",
   "execution_count": 3,
   "id": "72132667",
   "metadata": {
    "ExecuteTime": {
     "end_time": "2023-12-12T20:27:05.512488Z",
     "start_time": "2023-12-12T20:27:05.506200Z"
    }
   },
   "outputs": [
    {
     "name": "stdout",
     "output_type": "stream",
     "text": [
      "5\n"
     ]
    }
   ],
   "source": [
    "def count_unique_set(lst):\n",
    "    unique_set = set(lst)\n",
    "    count = len(unique_set)\n",
    "    return count\n",
    "\n",
    "my_list = [1, 2, 3, 4, 1, 2, 5]\n",
    "result = count_unique_set(my_list)\n",
    "print(result)"
   ]
  },
  {
   "cell_type": "markdown",
   "id": "fed6677c",
   "metadata": {},
   "source": [
    "**31-write a python program Extract all elements with Frequency greater than K (Input : test_list = [4, 6, 4, 3, 3, 4, 3, 4, 3, 8], K = 3 \n",
    "Output : [4, 3] )"
   ]
  },
  {
   "cell_type": "code",
   "execution_count": 6,
   "id": "d81f3f9d",
   "metadata": {
    "ExecuteTime": {
     "end_time": "2023-12-12T20:42:38.482274Z",
     "start_time": "2023-12-12T20:42:38.475528Z"
    }
   },
   "outputs": [
    {
     "name": "stdout",
     "output_type": "stream",
     "text": [
      "[4, 3]\n"
     ]
    }
   ],
   "source": [
    "test_list = [4, 6, 4, 3, 3, 4, 3, 4, 3, 8]\n",
    "lst = []\n",
    "\n",
    "for i in test_list:\n",
    "    if test_list.count(i) >= 3:\n",
    "        if i not in lst:\n",
    "            lst.append(i)\n",
    "\n",
    "result = set(lst)\n",
    "print(lst)"
   ]
  },
  {
   "cell_type": "markdown",
   "id": "caca5224",
   "metadata": {},
   "source": [
    "**32-write a python program to find the Strongest Neighbour (Input: 1 2 2 3 4 5\n",
    "Output: 2 2 3 4 5)"
   ]
  },
  {
   "cell_type": "code",
   "execution_count": 7,
   "id": "39fbd9b2",
   "metadata": {
    "ExecuteTime": {
     "end_time": "2023-12-12T20:44:54.133667Z",
     "start_time": "2023-12-12T20:44:54.123632Z"
    }
   },
   "outputs": [
    {
     "name": "stdout",
     "output_type": "stream",
     "text": [
      "Output: [2, 2, 3, 4, 5, 4]\n"
     ]
    }
   ],
   "source": [
    "def strongest_neighbor(nums):\n",
    "    result = []\n",
    "    n = len(nums)\n",
    "\n",
    "    for i in range(n):\n",
    "        if i == 0:\n",
    "            result.append(nums[i + 1])\n",
    "        elif i == n - 1:\n",
    "            result.append(nums[i - 1])\n",
    "        else:\n",
    "            result.append(max(nums[i - 1], nums[i + 1]))\n",
    "\n",
    "    return result\n",
    "\n",
    "input_sequence = [1, 2, 2, 3, 4, 5]\n",
    "result= strongest_neighbor(input_sequence)\n",
    "print(result)"
   ]
  },
  {
   "cell_type": "markdown",
   "id": "a9fa8baf",
   "metadata": {},
   "source": [
    "**33-write a Python Program to print all Possible Combinations from the three Digits (Input: [1, 2, 3]\n",
    "Output:\n",
    "1 2 3 ##\n",
    "1 3 2 ##\n",
    "2 1 3 ##\n",
    "2 3 1 ##\n",
    "3 1 2 ##\n",
    "3 2 1)"
   ]
  },
  {
   "cell_type": "code",
   "execution_count": 8,
   "id": "8c520a76",
   "metadata": {
    "ExecuteTime": {
     "end_time": "2023-12-13T01:22:15.767404Z",
     "start_time": "2023-12-13T01:22:15.721731Z"
    }
   },
   "outputs": [
    {
     "name": "stdout",
     "output_type": "stream",
     "text": [
      "## 1 2 3 \n",
      "## 1 3 2 \n",
      "## 2 1 3 \n",
      "## 2 3 1 \n",
      "## 3 1 2 \n",
      "## 3 2 1 \n"
     ]
    }
   ],
   "source": [
    "def print_all_combinations(digits, current_permutation=[]):\n",
    "    if not digits:\n",
    "        print(\"##\", end=\" \")\n",
    "        for digit in current_permutation:\n",
    "            print(digit, end=\" \")\n",
    "        print()\n",
    "        return\n",
    "    for i in range(len(digits)):\n",
    "        new_digit = digits[i]\n",
    "        remaining_digits = digits[:i] + digits[i + 1:]\n",
    "        print_all_combinations(remaining_digits, current_permutation + [new_digit])\n",
    "\n",
    "input_digits = [1, 2, 3]\n",
    "print_all_combinations(input_digits)"
   ]
  },
  {
   "cell_type": "markdown",
   "id": "5288bb89",
   "metadata": {},
   "source": [
    "**34-write a Python program to find all the Combinations in the list with the given condition (Input: test_list = [1,2,3] \n",
    "Output: \n",
    " [1], [1, 2], [1, 2, 3], [1, 3]\n",
    " [2], [2, 3], [3])"
   ]
  },
  {
   "cell_type": "code",
   "execution_count": 9,
   "id": "59b89646",
   "metadata": {
    "ExecuteTime": {
     "end_time": "2023-12-13T01:35:01.083853Z",
     "start_time": "2023-12-13T01:35:01.071430Z"
    }
   },
   "outputs": [
    {
     "name": "stdout",
     "output_type": "stream",
     "text": [
      "[1]\n",
      "[1, 2]\n",
      "[1, 2, 3]\n",
      "[1, 3]\n",
      "[2]\n",
      "[2, 3]\n",
      "[3]\n"
     ]
    }
   ],
   "source": [
    "def generate_combinations(input_list):\n",
    "    result = []\n",
    "    current_combination = []\n",
    "\n",
    "    def backtrack(start):\n",
    "        nonlocal current_combination\n",
    "        if start < len(input_list):\n",
    "            current_combination.append(input_list[start])\n",
    "            result.append(list(current_combination))\n",
    "            backtrack(start + 1)\n",
    "            current_combination.pop()\n",
    "            backtrack(start + 1)\n",
    "\n",
    "    backtrack(0)\n",
    "\n",
    "    return result\n",
    "\n",
    "test_list = [1, 2, 3]\n",
    "combinations_list = generate_combinations(test_list)\n",
    "\n",
    "for combination in combinations_list:\n",
    "    print(combination)"
   ]
  },
  {
   "cell_type": "markdown",
   "id": "39973705",
   "metadata": {},
   "source": [
    "**35-write a Python program to get all unique combinations of two Lists (List_1 = [\"a\",\"b\"]\n",
    "List_2 = [1,2]\n",
    "Unique_combination = [[('a',1),('b',2)],[('a',2),('b',1)]] )"
   ]
  },
  {
   "cell_type": "code",
   "execution_count": 10,
   "id": "8c4ba22b",
   "metadata": {
    "ExecuteTime": {
     "end_time": "2023-12-13T01:36:56.078133Z",
     "start_time": "2023-12-13T01:36:56.068988Z"
    }
   },
   "outputs": [
    {
     "name": "stdout",
     "output_type": "stream",
     "text": [
      "[[('a', 1)], [('a', 2)], [('b', 1)], [('b', 2)]]\n"
     ]
    }
   ],
   "source": [
    "List_1 = [\"a\", \"b\"]\n",
    "List_2 = [1, 2]\n",
    "\n",
    "Unique_combination = []\n",
    "for item_1 in List_1:\n",
    "    for item_2 in List_2:\n",
    "        Unique_combination.append([(item_1, item_2)])\n",
    "\n",
    "print(Unique_combination)"
   ]
  },
  {
   "cell_type": "markdown",
   "id": "25199af5",
   "metadata": {},
   "source": [
    "**36-Remove all the occurrences of an element from a list in Python (Input : 1 1 2 3 4 5 1 2 1 \n",
    "\n",
    "**Output : 2 3 4 5 2)"
   ]
  },
  {
   "cell_type": "code",
   "execution_count": 11,
   "id": "6dc4c2ba",
   "metadata": {
    "ExecuteTime": {
     "end_time": "2023-12-13T01:38:31.795955Z",
     "start_time": "2023-12-13T01:38:31.787623Z"
    }
   },
   "outputs": [
    {
     "name": "stdout",
     "output_type": "stream",
     "text": [
      "[2, 3, 4, 5, 2]\n"
     ]
    }
   ],
   "source": [
    "input_list = [1, 1, 2, 3, 4, 5, 1, 2, 1]\n",
    "element_to_remove = 1\n",
    "\n",
    "while element_to_remove in input_list:\n",
    "    input_list.remove(element_to_remove)\n",
    "\n",
    "print(input_list)"
   ]
  },
  {
   "cell_type": "markdown",
   "id": "bf1a3c93",
   "metadata": {},
   "source": [
    "**37-write a python program to Replace index elements with elements in Other List (The original list 1 is : [‘Gfg’, ‘is’, ‘best’] The original list 2 is : [0, 1, 2, 1, 0, 0, 0, 2, 1, 1, 2, 0] The lists after index elements replacements is : [‘Gfg’, ‘is’, ‘best’, ‘is’, ‘Gfg’, ‘Gfg’, ‘Gfg’, ‘best’, ‘is’, ‘is’, ‘best’, ‘Gfg’])"
   ]
  },
  {
   "cell_type": "code",
   "execution_count": 12,
   "id": "fdd66a71",
   "metadata": {
    "ExecuteTime": {
     "end_time": "2023-12-13T02:09:09.540639Z",
     "start_time": "2023-12-13T02:09:09.527793Z"
    }
   },
   "outputs": [
    {
     "name": "stdout",
     "output_type": "stream",
     "text": [
      "['Gfg', 'is', 'best', 'is', 'Gfg', 'Gfg', 'Gfg', 'best', 'is', 'is', 'best', 'Gfg']\n"
     ]
    }
   ],
   "source": [
    "def replace_elements(list1, list2):\n",
    "    result = list2.copy()\n",
    "    for i in range(len(list2)):\n",
    "        if list2[i] == 0:\n",
    "            result[i] = list1[0]\n",
    "        elif list2[i] == 1:\n",
    "            result[i] = list1[1]\n",
    "        elif list2[i] == 2:\n",
    "            result[i] = list1[2]\n",
    "    return result\n",
    "\n",
    "List1 = ['Gfg', 'is', 'best']\n",
    "List2 = [0, 1, 2, 1, 0, 0, 0, 2, 1, 1, 2, 0]\n",
    "Result = replace_elements(List1, List2)\n",
    "print(Result)"
   ]
  },
  {
   "cell_type": "markdown",
   "id": "af0f56e8",
   "metadata": {},
   "source": [
    "**38- write python program to Retain records with N occurrences of K(Input : test_list = [(4, 5, 5, 4), (5, 4, 3)], K = 5, N = 2 \n",
    "Output : [(4, 5, 5, 4)]\n",
    "Input : test_list = [(4, 5, 5, 4), (5, 4, 3)], K = 5, N = 3 \n",
    "Output : [] )"
   ]
  },
  {
   "cell_type": "code",
   "execution_count": 13,
   "id": "67b06671",
   "metadata": {
    "ExecuteTime": {
     "end_time": "2023-12-13T02:15:03.174326Z",
     "start_time": "2023-12-13T02:15:03.159857Z"
    }
   },
   "outputs": [
    {
     "name": "stdout",
     "output_type": "stream",
     "text": [
      "Output 1: [(4, 5, 5, 4)]\n",
      "Output 2: []\n"
     ]
    }
   ],
   "source": [
    "def retain_records(test_list, K, N):\n",
    "    result = []\n",
    "    for item in test_list:\n",
    "        if item.count(K) == N:\n",
    "            result.append(item)\n",
    "    return result\n",
    "\n",
    "\n",
    "test_list1 = [(4, 5, 5, 4), (5, 4, 3)]\n",
    "K1, N1 = 5, 2\n",
    "output1 = retain_records(test_list1, K1, N1)\n",
    "print(\"Output 1:\", output1)\n",
    "\n",
    "test_list2 = [(4, 5, 5, 4), (5, 4, 3)]\n",
    "K2, N2 = 5, 3\n",
    "output2 = retain_records(test_list2, K2, N2)\n",
    "print(\"Output 2:\", output2)"
   ]
  },
  {
   "cell_type": "markdown",
   "id": "de76f183",
   "metadata": {},
   "source": [
    "**39-write a Python Program to Sort the list according to the column using lambda\n",
    "array = [[1, 3, 3], [2, 1, 2], [3, 2, 1]]\n",
    "Output :\n",
    "Sorted array specific to column 0, [[1, 3, 3], [2, 1, 2], [3, 2, 1]]\n",
    "Sorted array specific to column 1, [[2, 1, 2], [3, 2, 1], [1, 3, 3]]\n",
    "Sorted array specific to column 2, [[3, 2, 1], [2, 1, 2], [1, 3, 3]]"
   ]
  },
  {
   "cell_type": "code",
   "execution_count": 14,
   "id": "dc883308",
   "metadata": {
    "ExecuteTime": {
     "end_time": "2023-12-13T02:31:33.380125Z",
     "start_time": "2023-12-13T02:31:33.369064Z"
    }
   },
   "outputs": [
    {
     "name": "stdout",
     "output_type": "stream",
     "text": [
      "Sorted array specific to column 0, [[1, 3, 3], [2, 1, 2], [3, 2, 1]]\n",
      "Sorted array specific to column 1, [[2, 1, 2], [3, 2, 1], [1, 3, 3]]\n",
      "Sorted array specific to column 2, [[3, 2, 1], [2, 1, 2], [1, 3, 3]]\n"
     ]
    }
   ],
   "source": [
    "def bubble_sort(arr, col):\n",
    "    n = len(arr)\n",
    "    for i in range(n):\n",
    "        for j in range(0, n-1):\n",
    "            if arr[j][col] > arr[j+1][col]:\n",
    "                arr[j], arr[j+1] = arr[j+1], arr[j]\n",
    "\n",
    "\n",
    "array = [[1, 3, 3], [2, 1, 2], [3, 2, 1]]\n",
    "for i in range(len(array[0])):\n",
    "    bubble_sort(array, i)\n",
    "    print(f\"Sorted array specific to column {i}, {array}\")"
   ]
  },
  {
   "cell_type": "markdown",
   "id": "a5e15f2c",
   "metadata": {},
   "source": [
    "**40- write a program to Sort Python Dictionaries by Key or Value\n",
    "Input:\n",
    "{'ravi': 10, 'rajnish': 9, 'sanjeev': 15, 'yash': 2, 'suraj': 32}\n",
    "\n",
    "Output: \n",
    "{'rajnish': 9, 'ravi': 10, 'sanjeev': 15, 'suraj': 32, 'yash': 2}"
   ]
  },
  {
   "cell_type": "code",
   "execution_count": 15,
   "id": "a96db4a0",
   "metadata": {
    "ExecuteTime": {
     "end_time": "2023-12-13T02:39:56.078319Z",
     "start_time": "2023-12-13T02:39:56.068828Z"
    }
   },
   "outputs": [
    {
     "name": "stdout",
     "output_type": "stream",
     "text": [
      "Sorted by Key: [('rajnish', 9), ('ravi', 10), ('sanjeev', 15), ('suraj', 32), ('yash', 2)]\n",
      "Sorted by Value: [('yash', 2), ('rajnish', 9), ('ravi', 10), ('sanjeev', 15), ('suraj', 32)]\n"
     ]
    }
   ],
   "source": [
    "input_dict = {'ravi': 10, 'rajnish': 9, 'sanjeev': 15, 'yash': 2, 'suraj': 32}\n",
    "sorted_dict_by_key = sorted(input_dict.items())\n",
    "sorted_dict_by_value = sorted(input_dict.items(), key=lambda item: item[1])\n",
    "print(\"Sorted by Key:\", sorted_dict_by_key)\n",
    "print(\"Sorted by Value:\", sorted_dict_by_value)"
   ]
  },
  {
   "cell_type": "markdown",
   "id": "ec63c23a",
   "metadata": {},
   "source": [
    "**41-write python program to Remove keys with Values Greater than K ( Including mixed values )\n",
    "nput : test_dict = {‘Gfg’ : 3, ‘is’ : 7, ‘best’ : 10, ‘for’ : 6, ‘geeks’ : ‘CS’},\n",
    "K = 7 \n",
    "Output : {‘Gfg’ : 3, ‘for’ : 6, ‘geeks’ : ‘CS’}"
   ]
  },
  {
   "cell_type": "code",
   "execution_count": null,
   "id": "e39c3a40",
   "metadata": {},
   "outputs": [],
   "source": []
  },
  {
   "cell_type": "markdown",
   "id": "f143f0fe",
   "metadata": {},
   "source": [
    "**42-Write a Python program to concatenate the following dictionaries to create a new one\n",
    "\n",
    "Sample Dictionary :\n",
    "dic1={1:10, 2:20}\n",
    "dic2={3:30, 4:40}\n",
    "dic3={5:50,6:60}\n",
    "Expected Result : {1: 10, 2: 20, 3: 30, 4: 40, 5: 50, 6: 60}"
   ]
  },
  {
   "cell_type": "code",
   "execution_count": null,
   "id": "74ffdfea",
   "metadata": {},
   "outputs": [],
   "source": []
  },
  {
   "cell_type": "markdown",
   "id": "fb04c93c",
   "metadata": {},
   "source": [
    "**43-Write a Python program to iterate over dictionaries using for loops"
   ]
  },
  {
   "cell_type": "code",
   "execution_count": null,
   "id": "6aebc470",
   "metadata": {},
   "outputs": [],
   "source": []
  },
  {
   "cell_type": "markdown",
   "id": "5f491a9d",
   "metadata": {},
   "source": [
    "**44- Write a Python script to merge two Python dictionaries"
   ]
  },
  {
   "cell_type": "code",
   "execution_count": null,
   "id": "b8a14028",
   "metadata": {},
   "outputs": [],
   "source": []
  },
  {
   "cell_type": "markdown",
   "id": "216fc72d",
   "metadata": {},
   "source": [
    "**45-Write a Python program to get the maximum and minimum values of a dictionary values"
   ]
  },
  {
   "cell_type": "code",
   "execution_count": null,
   "id": "d6883f5f",
   "metadata": {},
   "outputs": [],
   "source": []
  },
  {
   "cell_type": "markdown",
   "id": "b6a53011",
   "metadata": {},
   "source": [
    "**46- Write a Python program to drop empty items from a given dictionary.\n",
    "Original Dictionary:\n",
    "{'c1': 'Red', 'c2': 'Green', 'c3': None}\n",
    "New Dictionary after dropping empty items:\n",
    "{'c1': 'Red', 'c2': 'Green'}"
   ]
  },
  {
   "cell_type": "code",
   "execution_count": null,
   "id": "b5c6fecf",
   "metadata": {},
   "outputs": [],
   "source": []
  },
  {
   "cell_type": "markdown",
   "id": "46d718c7",
   "metadata": {},
   "source": [
    "**47-Write a Python program to create a tuple of numbers and print one item"
   ]
  },
  {
   "cell_type": "code",
   "execution_count": null,
   "id": "13216ff5",
   "metadata": {},
   "outputs": [],
   "source": []
  },
  {
   "cell_type": "markdown",
   "id": "2be5b56b",
   "metadata": {},
   "source": [
    "**48-Write a Python program to unpack a tuple into several variables"
   ]
  },
  {
   "cell_type": "code",
   "execution_count": null,
   "id": "595f44be",
   "metadata": {},
   "outputs": [],
   "source": []
  },
  {
   "cell_type": "markdown",
   "id": "392388a7",
   "metadata": {},
   "source": [
    "**49-Write a Python program to add an item to a tuple"
   ]
  },
  {
   "cell_type": "code",
   "execution_count": null,
   "id": "54cc092e",
   "metadata": {},
   "outputs": [],
   "source": []
  },
  {
   "cell_type": "markdown",
   "id": "3e8fd124",
   "metadata": {},
   "source": [
    "**50-Write a Python program to convert a tuple to a string"
   ]
  },
  {
   "cell_type": "code",
   "execution_count": null,
   "id": "92a71ddc",
   "metadata": {},
   "outputs": [],
   "source": []
  },
  {
   "cell_type": "markdown",
   "id": "f4f64ef4",
   "metadata": {},
   "source": [
    "**51-Write a Python program to convert a list to a tuple"
   ]
  },
  {
   "cell_type": "code",
   "execution_count": null,
   "id": "210d56d3",
   "metadata": {},
   "outputs": [],
   "source": []
  },
  {
   "cell_type": "markdown",
   "id": "b1e00ef7",
   "metadata": {},
   "source": [
    "**52-Write a Python program to reverse a tuple"
   ]
  },
  {
   "cell_type": "code",
   "execution_count": null,
   "id": "f45bfdc7",
   "metadata": {},
   "outputs": [],
   "source": []
  },
  {
   "cell_type": "markdown",
   "id": "3cd347d1",
   "metadata": {},
   "source": [
    "**53-Write a Python program to replace the last value of tuples in a list.\n",
    "Sample list: [(10, 20, 40), (40, 50, 60), (70, 80, 90)]\n",
    "Expected Output: [(10, 20, 100), (40, 50, 100), (70, 80, 100)]"
   ]
  },
  {
   "cell_type": "code",
   "execution_count": null,
   "id": "3c4a2a4c",
   "metadata": {},
   "outputs": [],
   "source": []
  },
  {
   "cell_type": "markdown",
   "id": "76bb7b39",
   "metadata": {},
   "source": [
    "**54-Write a Python program to convert a given string list to a tuple\n",
    "Original string: python 3.0\n",
    "<class 'str'>\n",
    "Convert the said string to a tuple:\n",
    "('p', 'y', 't', 'h', 'o', 'n', '3', '.', '0')"
   ]
  },
  {
   "cell_type": "code",
   "execution_count": null,
   "id": "51951937",
   "metadata": {},
   "outputs": [],
   "source": []
  },
  {
   "cell_type": "markdown",
   "id": "5a1d5d97",
   "metadata": {},
   "source": [
    "**55-Write a Python program to calculate the average value of the numbers in a given tuple of tuples"
   ]
  },
  {
   "cell_type": "code",
   "execution_count": null,
   "id": "834e7992",
   "metadata": {},
   "outputs": [],
   "source": []
  },
  {
   "cell_type": "markdown",
   "id": "51edab9c",
   "metadata": {},
   "source": [
    "**56-Write a Python program to add member(s) to a set."
   ]
  },
  {
   "cell_type": "code",
   "execution_count": null,
   "id": "2b65df79",
   "metadata": {},
   "outputs": [],
   "source": []
  },
  {
   "cell_type": "markdown",
   "id": "965590cc",
   "metadata": {},
   "source": [
    "**57-Write a Python program to remove an item from a set if it is present in the set."
   ]
  },
  {
   "cell_type": "code",
   "execution_count": null,
   "id": "866bab28",
   "metadata": {},
   "outputs": [],
   "source": []
  },
  {
   "cell_type": "markdown",
   "id": "2b7cfed1",
   "metadata": {},
   "source": [
    "**58-Write a Python program to create an intersection,union,difference and symmetric difference of sets"
   ]
  },
  {
   "cell_type": "code",
   "execution_count": null,
   "id": "7f94b7fe",
   "metadata": {},
   "outputs": [],
   "source": []
  },
  {
   "cell_type": "markdown",
   "id": "b94931e2",
   "metadata": {},
   "source": [
    "**59-Write a Python program to find the maximum and minimum values in a set"
   ]
  },
  {
   "cell_type": "code",
   "execution_count": null,
   "id": "203f9600",
   "metadata": {},
   "outputs": [],
   "source": []
  },
  {
   "cell_type": "markdown",
   "id": "255fd554",
   "metadata": {},
   "source": [
    "**60- Write a Python program that finds all pairs of elements in a list whose sum is equal to a given value."
   ]
  },
  {
   "cell_type": "code",
   "execution_count": null,
   "id": "c2d94e1f",
   "metadata": {},
   "outputs": [],
   "source": []
  }
 ],
 "metadata": {
  "kernelspec": {
   "display_name": "Python 3 (ipykernel)",
   "language": "python",
   "name": "python3"
  },
  "language_info": {
   "codemirror_mode": {
    "name": "ipython",
    "version": 3
   },
   "file_extension": ".py",
   "mimetype": "text/x-python",
   "name": "python",
   "nbconvert_exporter": "python",
   "pygments_lexer": "ipython3",
   "version": "3.11.5"
  }
 },
 "nbformat": 4,
 "nbformat_minor": 5
}
